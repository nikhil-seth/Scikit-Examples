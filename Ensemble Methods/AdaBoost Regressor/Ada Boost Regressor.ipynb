{
 "cells": [
  {
   "cell_type": "markdown",
   "metadata": {},
   "source": [
    "AdaBoost Regressor On Dataset of Boston House Price"
   ]
  },
  {
   "cell_type": "code",
   "execution_count": 2,
   "metadata": {},
   "outputs": [],
   "source": [
    "#Importing Pandas library\n",
    "import pandas as pd"
   ]
  },
  {
   "cell_type": "code",
   "execution_count": 1,
   "metadata": {},
   "outputs": [],
   "source": [
    "#Importing Boston House Data\n",
    "from sklearn.datasets import load_boston"
   ]
  },
  {
   "cell_type": "code",
   "execution_count": 4,
   "metadata": {},
   "outputs": [],
   "source": [
    "#Modifying Data & Creating variables X_test ,Y_test ,X_train, Y_train\n",
    "boston=load_boston()\n",
    "bst=pd.DataFrame(boston.data)\n",
    "X_train=bst.iloc[:400,:]\n",
    "X_test=bst.iloc[400:,:]\n",
    "bst=pd.DataFrame(boston.target)\n",
    "Y_test=bst.iloc[400:,:]\n",
    "Y_train=bst.iloc[:400,:]"
   ]
  },
  {
   "cell_type": "code",
   "execution_count": 5,
   "metadata": {},
   "outputs": [],
   "source": [
    "#Importing AdaBoostRegressor & Mean Absolute Error Metrics\n",
    "from sklearn.ensemble import AdaBoostRegressor\n",
    "from sklearn.metrics import mean_absolute_error as MAE\n"
   ]
  },
  {
   "cell_type": "code",
   "execution_count": 9,
   "metadata": {},
   "outputs": [
    {
     "name": "stderr",
     "output_type": "stream",
     "text": [
      "D:\\Anaconda3\\lib\\site-packages\\sklearn\\utils\\validation.py:578: DataConversionWarning: A column-vector y was passed when a 1d array was expected. Please change the shape of y to (n_samples, ), for example using ravel().\n",
      "  y = column_or_1d(y, warn=True)\n"
     ]
    }
   ],
   "source": [
    "#Making abr having AdaBoostRegressor\n",
    "abr=AdaBoostRegressor()\n",
    "abr.fit(X_train,Y_train)\n",
    "predict=abr.predict(X_test)"
   ]
  },
  {
   "cell_type": "code",
   "execution_count": 10,
   "metadata": {},
   "outputs": [
    {
     "name": "stdout",
     "output_type": "stream",
     "text": [
      "Mean Absolute Error : 3.8320264048179\n"
     ]
    }
   ],
   "source": [
    "#Outputting Mean Absolute Error\n",
    "print(\"Mean Absolute Error :\",MAE(Y_test,predict))"
   ]
  },
  {
   "cell_type": "code",
   "execution_count": 46,
   "metadata": {},
   "outputs": [],
   "source": [
    "#DATA SET IS NOT MODIFIED TO WORK ACCURATELY WITH THE REGRESSOR\n",
    "#It Just gives an idea about how to Implement the Models"
   ]
  }
 ],
 "metadata": {
  "kernelspec": {
   "display_name": "Python 3",
   "language": "python",
   "name": "python3"
  },
  "language_info": {
   "codemirror_mode": {
    "name": "ipython",
    "version": 3
   },
   "file_extension": ".py",
   "mimetype": "text/x-python",
   "name": "python",
   "nbconvert_exporter": "python",
   "pygments_lexer": "ipython3",
   "version": "3.6.5"
  }
 },
 "nbformat": 4,
 "nbformat_minor": 2
}
