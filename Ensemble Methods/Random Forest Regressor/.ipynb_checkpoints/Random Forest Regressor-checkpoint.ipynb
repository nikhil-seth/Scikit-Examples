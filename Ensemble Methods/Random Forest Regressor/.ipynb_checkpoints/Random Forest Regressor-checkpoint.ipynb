{
 "cells": [
  {
   "cell_type": "markdown",
   "metadata": {},
   "source": [
    "Random Forest Regressor On Dataset of House Prices."
   ]
  },
  {
   "cell_type": "code",
   "execution_count": 33,
   "metadata": {},
   "outputs": [],
   "source": [
    "#Importing Pandas library\n",
    "import pandas as pd"
   ]
  },
  {
   "cell_type": "code",
   "execution_count": 34,
   "metadata": {},
   "outputs": [],
   "source": [
    "#Importing data from csv file  \n",
    "house_data=pd.read_csv('house-data.csv')\n"
   ]
  },
  {
   "cell_type": "code",
   "execution_count": 35,
   "metadata": {},
   "outputs": [],
   "source": [
    "#Modifying Data & Creating variables X_test ,Y_test ,X_train, Y_train\n",
    "house_data=house_data.iloc[:, 2:]\n",
    "X_train=house_data.iloc[:15000,1:]\n",
    "Y_train=house_data.iloc[:15000,0]\n",
    "X_test=house_data.iloc[15000:,1:]\n",
    "Y_test=house_data.iloc[15000:,0]"
   ]
  },
  {
   "cell_type": "code",
   "execution_count": 36,
   "metadata": {},
   "outputs": [],
   "source": [
    "#Importing RandomForestRegressor & Mean Absolute Error Metrics\n",
    "from sklearn.ensemble import RandomForestRegressor\n",
    "from sklearn.metrics import mean_absolute_error as MAE\n"
   ]
  },
  {
   "cell_type": "code",
   "execution_count": 37,
   "metadata": {},
   "outputs": [],
   "source": [
    "#Making rfr having RandomForestRegressor\n",
    "rfr=RandomForestRegressor()\n",
    "rfr.fit(X_train,Y_train)\n",
    "predict=rfr.predict(X_test)"
   ]
  },
  {
   "cell_type": "code",
   "execution_count": 38,
   "metadata": {},
   "outputs": [
    {
     "name": "stdout",
     "output_type": "stream",
     "text": [
      "Mean Absolute Error : 77308.95247240285\n"
     ]
    }
   ],
   "source": [
    "#Outputting Mean Absolute Error\n",
    "print(\"Mean Absolute Error :\",MAE(Y_test,predict))"
   ]
  },
  {
   "cell_type": "code",
   "execution_count": 39,
   "metadata": {},
   "outputs": [],
   "source": [
    "#DATA SET IS NOT MODIFIED TO WORK ACCURATELY WITH THE REGRESSOR\n",
    "#It Just gives an idea about how to Implement the Models"
   ]
  }
 ],
 "metadata": {
  "kernelspec": {
   "display_name": "Python 3",
   "language": "python",
   "name": "python3"
  },
  "language_info": {
   "codemirror_mode": {
    "name": "ipython",
    "version": 3
   },
   "file_extension": ".py",
   "mimetype": "text/x-python",
   "name": "python",
   "nbconvert_exporter": "python",
   "pygments_lexer": "ipython3",
   "version": "3.6.5"
  }
 },
 "nbformat": 4,
 "nbformat_minor": 2
}
