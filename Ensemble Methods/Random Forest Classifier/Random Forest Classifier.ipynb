{
 "cells": [
  {
   "cell_type": "markdown",
   "metadata": {},
   "source": [
    "Random Forest Classifier On Dataset of Wharts."
   ]
  },
  {
   "cell_type": "code",
   "execution_count": 11,
   "metadata": {},
   "outputs": [],
   "source": [
    "#Importing Pandas library\n",
    "import pandas as pd"
   ]
  },
  {
   "cell_type": "code",
   "execution_count": 12,
   "metadata": {},
   "outputs": [],
   "source": [
    "#Importing data from excel file  \n",
    "excel=pd.read_excel('cpt.xlsx')"
   ]
  },
  {
   "cell_type": "code",
   "execution_count": 13,
   "metadata": {},
   "outputs": [],
   "source": [
    "#Modifying Data & Creating variables X_test ,Y_test ,X_train, Y_train\n",
    "excel=excel.iloc[:,[0,1,3,4,5,6]]\n",
    "X_train=excel.iloc[0:61,:len(excel.columns)-1]\n",
    "Y_train=excel.iloc[0:61,-1]\n",
    "X_test=excel.iloc[61:,:len(excel.columns)-1]\n",
    "Y_test=excel.iloc[61:,-1]"
   ]
  },
  {
   "cell_type": "code",
   "execution_count": 19,
   "metadata": {},
   "outputs": [],
   "source": [
    "#Importing Random Forest Classifier & Mean Absolute Error Metrics\n",
    "from sklearn.ensemble import RandomForestClassifier\n",
    "from sklearn.metrics import mean_absolute_error as MAE\n"
   ]
  },
  {
   "cell_type": "code",
   "execution_count": 20,
   "metadata": {},
   "outputs": [],
   "source": [
    "#Making rfcf having random Forest Classifier\n",
    "rfcf=RandomForestClassifier()\n",
    "rfcf.fit(X_train,Y_train)\n",
    "#Predicting on X_test\n",
    "predict=rfcf.predict(X_test)"
   ]
  },
  {
   "cell_type": "code",
   "execution_count": 21,
   "metadata": {},
   "outputs": [
    {
     "name": "stdout",
     "output_type": "stream",
     "text": [
      "Mean Absolute Error : 0.20689655172413793\n"
     ]
    }
   ],
   "source": [
    "#Outputting Mean Absolute Error\n",
    "print(\"Mean Absolute Error :\",MAE(Y_test,predict))"
   ]
  },
  {
   "cell_type": "code",
   "execution_count": null,
   "metadata": {},
   "outputs": [],
   "source": []
  }
 ],
 "metadata": {
  "kernelspec": {
   "display_name": "Python 3",
   "language": "python",
   "name": "python3"
  },
  "language_info": {
   "codemirror_mode": {
    "name": "ipython",
    "version": 3
   },
   "file_extension": ".py",
   "mimetype": "text/x-python",
   "name": "python",
   "nbconvert_exporter": "python",
   "pygments_lexer": "ipython3",
   "version": "3.6.5"
  }
 },
 "nbformat": 4,
 "nbformat_minor": 2
}
