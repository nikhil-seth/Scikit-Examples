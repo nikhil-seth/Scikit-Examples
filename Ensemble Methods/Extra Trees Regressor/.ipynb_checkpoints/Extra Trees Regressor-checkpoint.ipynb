{
 "cells": [
  {
   "cell_type": "markdown",
   "metadata": {},
   "source": [
    "Extra Trees Regressor on Data Set of House Prices\n"
   ]
  },
  {
   "cell_type": "code",
   "execution_count": 40,
   "metadata": {},
   "outputs": [],
   "source": [
    "#Importing Pandas library\n",
    "import pandas as pd"
   ]
  },
  {
   "cell_type": "code",
   "execution_count": 41,
   "metadata": {},
   "outputs": [],
   "source": [
    "#Importing data from csv file  \n",
    "house_data=pd.read_csv('house-data.csv')\n"
   ]
  },
  {
   "cell_type": "code",
   "execution_count": 42,
   "metadata": {},
   "outputs": [],
   "source": [
    "#Modifying Data & Creating variables X_test ,Y_test ,X_train, Y_train\n",
    "house_data=house_data.iloc[:, 2:]\n",
    "X_train=house_data.iloc[:15000,1:]\n",
    "Y_train=house_data.iloc[:15000,0]\n",
    "X_test=house_data.iloc[15000:,1:]\n",
    "Y_test=house_data.iloc[15000:,0]"
   ]
  },
  {
   "cell_type": "code",
   "execution_count": 43,
   "metadata": {},
   "outputs": [],
   "source": [
    "#Importing ExtraTreesRegressor & Mean Absolute Error Metrics\n",
    "from sklearn.ensemble import ExtraTreesRegressor\n",
    "from sklearn.metrics import mean_absolute_error as MAE\n"
   ]
  },
  {
   "cell_type": "code",
   "execution_count": 44,
   "metadata": {},
   "outputs": [],
   "source": [
    "#Making etr having ExtraTreesRegressor\n",
    "etr=ExtraTreesRegressor()\n",
    "etr.fit(X_train,Y_train)\n",
    "predict=etr.predict(X_test)"
   ]
  },
  {
   "cell_type": "code",
   "execution_count": 45,
   "metadata": {},
   "outputs": [
    {
     "name": "stdout",
     "output_type": "stream",
     "text": [
      "Mean Absolute Error : 75625.42524572811\n"
     ]
    }
   ],
   "source": [
    "#Outputting Mean Absolute Error\n",
    "print(\"Mean Absolute Error :\",MAE(Y_test,predict))"
   ]
  },
  {
   "cell_type": "code",
   "execution_count": 46,
   "metadata": {},
   "outputs": [],
   "source": [
    "#DATA SET IS NOT MODIFIED TO WORK ACCURATELY WITH THE REGRESSOR\n",
    "#It Just gives an idea about how to Implement the Models"
   ]
  }
 ],
 "metadata": {
  "kernelspec": {
   "display_name": "Python 3",
   "language": "python",
   "name": "python3"
  },
  "language_info": {
   "codemirror_mode": {
    "name": "ipython",
    "version": 3
   },
   "file_extension": ".py",
   "mimetype": "text/x-python",
   "name": "python",
   "nbconvert_exporter": "python",
   "pygments_lexer": "ipython3",
   "version": "3.6.5"
  }
 },
 "nbformat": 4,
 "nbformat_minor": 2
}
